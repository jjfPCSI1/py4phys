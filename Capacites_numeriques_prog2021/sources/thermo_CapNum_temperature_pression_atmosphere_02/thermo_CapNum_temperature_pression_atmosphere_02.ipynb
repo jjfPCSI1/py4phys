{
 "cells": [
  {
   "cell_type": "markdown",
   "id": "4e31cfa1",
   "metadata": {},
   "source": [
    "# Température et pression dans l'atmosphère, épisode II\n",
    "\n",
    "## Hypothèses de départ\n",
    "\n",
    "On repart de l'expression de l'atmosphère adiabatique avec une température de surface de $15$°C et une décroissance régulière de $6{,}5$°C/km à mesure qu'on monte en altitude. On va rajouter comme hypothèse que l'accélération de la pesanteur évolue selon la formule\n",
    "$$\n",
    "g = g_0\\left(\\frac{R_T}{R_T+z}\\right)^2\n",
    "$$\n",
    "où $R_T=6378$ km est le rayon de la Terre (à ne pas confondre avec la constante $R$ des gaz parfait... attention aussi à prendre la bonne unité dans les équations) et $g_0=9{,}81~\\mathrm{m.s^{-2}}$ as usual. \n",
    "\n",
    "L'équation de l'hydrostatique pour l'atmosphère s'écrit toujours\n",
    "$$\n",
    "\\frac{\\mathrm{d}P}{\\mathrm{d}z} = - \\frac{M\\,g(z)}{R\\,T(z)}\\,P(z)\n",
    "$$\n",
    "sauf qu'on prend à la fois en compte la variation de température et d'accélération de la pesanteur avec l'altitude.\n",
    "\n",
    "Notez que dans le cas où $g=g_0=C^{te}$ et en notant $T(z) = T_0-\\alpha z$, on pouvait faire une intégration manuelle et obtenir l'expression suivante de la pression:\n",
    "$$\n",
    "P_{\\text{adiab}} = P_0\\left(1 - \\frac{\\alpha z}{T_0}\\right)^{\\frac{Mg_0}{R\\alpha}}\n",
    "$$\n",
    "qui vous servira pour comparer au cas où $g$ varie.\n",
    "\n",
    "## Ce que vous devez faire\n",
    "\n",
    "Il s'agit à présent d'intégrer l'aquation de l'hydrostatique dans le cas où $T$ *et* $g$ varient avec $z$ et de trouver l'écart absolu maximal de pression ainsi que l'altitude pour lequel on croise cet écart."
   ]
  },
  {
   "cell_type": "code",
   "execution_count": 1,
   "id": "7f56f510",
   "metadata": {},
   "outputs": [
    {
     "name": "stdout",
     "output_type": "stream",
     "text": [
      "Votre réponse: (\"Altitude d'écart maximal\", 'Écart maximal')\n"
     ]
    }
   ],
   "source": [
    "# À vous d'importer et définir tout ce qu'il faut pour répondre à la question\n",
    "\n",
    "\n",
    "\n",
    "reponse = \"Altitude d'écart maximal\", \"Écart maximal\"\n",
    "\n",
    "print(\"Votre réponse:\", reponse)"
   ]
  }
 ],
 "metadata": {
  "kernelspec": {
   "display_name": "Python 3 (ipykernel)",
   "language": "python",
   "name": "python3"
  },
  "language_info": {
   "codemirror_mode": {
    "name": "ipython",
    "version": 3
   },
   "file_extension": ".py",
   "mimetype": "text/x-python",
   "name": "python",
   "nbconvert_exporter": "python",
   "pygments_lexer": "ipython3",
   "version": "3.10.4"
  }
 },
 "nbformat": 4,
 "nbformat_minor": 5
}
