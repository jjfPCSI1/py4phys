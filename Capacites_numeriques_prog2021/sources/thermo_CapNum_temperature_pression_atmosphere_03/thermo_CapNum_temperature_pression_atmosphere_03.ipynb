{
 "cells": [
  {
   "cell_type": "markdown",
   "id": "809b79cf",
   "metadata": {},
   "source": [
    "# Température et pression dans l'atmosphère, épisode III\n",
    "\n",
    "On a maintenant assez de connaissance d'intégration pour pouvoir comparer des modèles plus avancés, notamment celui de l'atmosphère «standard» comme définie sur la page wikipédia https://fr.wikipedia.org/wiki/Atmosphère_normalisée#Atmosphère_standard\n",
    "\n",
    "Celle-ci est caractérisée par un ensemble de gradients de températures ainsi que des altitudes où le gradient change. La fonction de température est donc affine par morceaux tout en étant continue.\n",
    "\n",
    "Connaissant tout cela et en prenant en compte la variation de $g$ comme indiqué par la page wikipédia, essayons de retrouver les points de passage indiqués pour la pression (donné dans les variable `P_standard` pour les `z_standard` correspondants).\n",
    "\n",
    "En comparant ce qui se passe en échelle logarithmique selon l'axe en pression, on se rend compte que la pression suit quand même quasiment une loi de puissance de la forme\n",
    "$$\n",
    "P(z) = P_0\\,\\exp(-\\alpha z)\n",
    "$$\n",
    "dont vous devez essayer de déterminer l'écart maximal et l'altitude correspondante."
   ]
  },
  {
   "cell_type": "code",
   "execution_count": 1,
   "id": "e3570f04",
   "metadata": {},
   "outputs": [
    {
     "name": "stdout",
     "output_type": "stream",
     "text": [
      "Votre réponse: ('z_max', 'max_delta_P')\n"
     ]
    },
    {
     "data": {
      "image/png": "[encoded data removed]",
      "text/plain": [
       "<Figure size 432x288 with 1 Axes>"
      ]
     },
     "metadata": {
      "needs_background": "light"
     },
     "output_type": "display_data"
    }
   ],
   "source": [
    "# Bibli usuelles\n",
    "import numpy as np\n",
    "import scipy as sp\n",
    "import scipy.integrate\n",
    "import matplotlib.pyplot as plt\n",
    "\n",
    "# import des données nécessaire, en particulier:\n",
    "# * `g0` l'accélération de la pesanteur au niveau du sol\n",
    "# * `g(z)` la fonction donnant g en fonction de l'altitude z\n",
    "# * `T0` la température au niveau du sol\n",
    "# * `T(z)` la fonction donnant la température de l'atmosphère standard (en K) en fonction de z\n",
    "# * `R` la constante des gaz parfaits\n",
    "# * `M` la masse molaire de l'air (en kg/mol)\n",
    "# * `P0` la pression au niveau du sol\n",
    "# * `z_standard`, un array avec les altitudes des changements de gradients\n",
    "# * `P_standard`, les pressions aux `z_standard` associés\n",
    "# * `T_standard`, les températures aux `z_standard` associés\n",
    "# * `alpha`, le coefficient pour modéliser la pression sous la forme P(z) = P0 * exp(-alpha*z)\n",
    "from donnees import *\n",
    "\n",
    "\n",
    "# Vérification de l'évolution de la température\n",
    "z = np.linspace(0, z86, 10**3)\n",
    "plt.plot(z_standard, T_standard, 'o')\n",
    "plt.plot(z, T(z))\n",
    "plt.xlabel(\"Altitude $z$ en m\")\n",
    "plt.ylabel(\"Température $T$ en K\")\n",
    "\n",
    "# À vous maintenant, il s'agit d'intégrer l'équadiff et trouver l'altitude avec\n",
    "# le plus de différence en valeur absolue par rapport à l'atmosphère isotherme\n",
    "\n",
    "\n",
    "\n",
    "\n",
    "\n",
    "reponse = \"z_max\", \"max_delta_P\"\n",
    "\n",
    "print(\"Votre réponse:\", reponse)\n"
   ]
  }
 ],
 "metadata": {
  "kernelspec": {
   "display_name": "Python 3 (ipykernel)",
   "language": "python",
   "name": "python3"
  },
  "language_info": {
   "codemirror_mode": {
    "name": "ipython",
    "version": 3
   },
   "file_extension": ".py",
   "mimetype": "text/x-python",
   "name": "python",
   "nbconvert_exporter": "python",
   "pygments_lexer": "ipython3",
   "version": "3.9.12"
  }
 },
 "nbformat": 4,
 "nbformat_minor": 5
}
