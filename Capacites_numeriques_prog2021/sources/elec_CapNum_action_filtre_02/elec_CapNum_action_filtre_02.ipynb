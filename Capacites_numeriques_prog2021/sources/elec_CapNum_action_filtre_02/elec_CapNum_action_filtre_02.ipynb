{
 "cells": [
  {
   "cell_type": "markdown",
   "metadata": {},
   "source": [
    "# Action d'un filtre sur un signal périodique, épisode II\n",
    "\n",
    "## Problème à résoudre\n",
    "\n",
    "On vous fournit le spectre en amplitude d'un signal périodique en entrée avec la variable `freqs` qui contient les fréquences et la variable `FFT` qui contient la FFT, chacun sous forme de `np.array`.\n",
    "\n",
    "On fournit aussi une liste `liste_H` de deux fonctions de transfert qui prennent chacune une fréquence en argument et renvoient la valeur complexe de la fonction de transfert à cette fréquence.\n",
    "\n",
    "Après calcul de la FFT du signal de sortie pour chaque filtre, il s'agit de trouver la fréquence correspondant au pic principal de la FFT ainsi que la valeur de l'amplitude correspondante du pic. On mettra tout dans la variable `reponse` (SANS ACCENT) dans l'ordre\n",
    "`reponse = f1max, FFT1max, f2max, FFT2max`\n",
    "\n",
    "On pensera aussi à faire une représentation graphique des FFT d'entrée et de chaque sortie pour visualiser l'effet de chaque filtre (essayez de dire lequel est lequel)\n"
   ]
  },
  {
   "cell_type": "code",
   "execution_count": 1,
   "metadata": {},
   "outputs": [
    {
     "data": {
      "image/png": "[encoded data removed]",
      "text/plain": [
       "<Figure size 432x288 with 1 Axes>"
      ]
     },
     "metadata": {
      "needs_background": "light"
     },
     "output_type": "display_data"
    }
   ],
   "source": [
    "# Modules utiles\n",
    "import numpy as np\n",
    "import matplotlib.pyplot as plt\n",
    "\n",
    "# Les données, à savoir le spectre `FFT` \n",
    "# pour les fréquences `freqs` correspondantes\n",
    "# ainsi que la liste `liste_H` contenant les deux fonctions de transfert \n",
    "# qui peuvent prendre des fréquences sous forme de np.array en argument\n",
    "from donnees import *\n",
    "\n",
    "# Calculez l'effet de chaque fonction de transfert sur le spectre\n",
    "\n",
    "FFT_sortie1 = 'À compléter'\n",
    "FFT_sortie2 = 'À compléter'\n",
    "\n",
    "# Puis trouvez la fréquence du plus grand pic \n",
    "# ainsi que la valeur de FFT correspondante.\n",
    "\n",
    "f1max = 'fréquence plus grand premier pic, premier filtre'\n",
    "FFT1max = 'Valeur du plus grand pic après application du premier filtre'\n",
    "f2max = 'fréquence plus grand premier pic, second filtre'\n",
    "FFT2max = 'Valeur du plus grand pic après application du second filtre'\n",
    "\n",
    "# Puis complétez le graphique ci-après pour y mettre aussi \n",
    "# les spectres des signaux de sortie\n",
    "\n",
    "plt.plot(freqs, FFT, label = \"Signal d'entrée\")\n",
    "\n",
    "plt.xlabel('Fréquence $f$')\n",
    "plt.ylabel('Transformée de Fourier')\n",
    "plt.legend()\n",
    "plt.grid()\n",
    "plt.xlim(0, max(freqs))\n",
    "plt.ylim(ymin = 0)\n",
    "\n",
    "# En réponse, on doit donner la FFT du signal de sortie\n",
    "\n",
    "reponse = f1max, FFT1max, f2max, FFT2max"
   ]
  }
 ],
 "metadata": {
  "kernelspec": {
   "display_name": "Python 3",
   "language": "python",
   "name": "python3"
  },
  "language_info": {
   "codemirror_mode": {
    "name": "ipython",
    "version": 3
   },
   "file_extension": ".py",
   "mimetype": "text/x-python",
   "name": "python",
   "nbconvert_exporter": "python",
   "pygments_lexer": "ipython3",
   "version": "3.7.6"
  }
 },
 "nbformat": 4,
 "nbformat_minor": 5
}
