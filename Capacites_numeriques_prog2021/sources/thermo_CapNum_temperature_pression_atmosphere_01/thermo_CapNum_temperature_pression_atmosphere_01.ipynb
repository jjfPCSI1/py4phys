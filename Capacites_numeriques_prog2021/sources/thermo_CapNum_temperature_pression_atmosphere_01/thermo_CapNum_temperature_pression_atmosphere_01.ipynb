{
 "cells": [
  {
   "cell_type": "markdown",
   "id": "6be29670",
   "metadata": {},
   "source": [
    "# Température et pression dans l'atmosphère, épisode I\n",
    "\n",
    "Dans cette série de CapNum, on va étudier les variations de pression dans l'atmosphère dans différentes configurations. On sait déjà que d'après le cours, on a pour le modèle de l'atmophère isotherme\n",
    "$$\n",
    "P(z) = P_0\\,\\exp\\left(-\\frac{z}{H_0}\\right)\\qquad\n",
    "\\text{avec}\\qquad\n",
    "H_0 = \\frac{R\\,T_0}{M\\,g}\n",
    "$$\n",
    "où $R$ est la constante des gaz parfait, $T_0$ la température (commune) de l'atmosphère, $M$ la masse molaire du gaz (supposé parfait) constitutif de l'atmosphère et $g$ l'accélération de la pesanteur (supposée constante).\n",
    "\n",
    "Plus exactement, on a comme équation différentielle de base\n",
    "$$\n",
    "\\frac{\\mathrm{d}P}{\\mathrm{d}z} = - \\frac{Mg}{RT}\\,P\n",
    "$$\n",
    "qu'il s'agit de résoudre et l'expression précédente n'en est la solution que si ce qui est en facteur devant $P$ dans le second membre est effectivement constant. Informatiquement, on peut résoudre en utilisant `odeint` de la sorte"
   ]
  },
  {
   "cell_type": "code",
   "execution_count": 3,
   "id": "53085159",
   "metadata": {},
   "outputs": [
    {
     "data": {
      "image/png": "[encoded data removed]",
      "text/plain": [
       "<Figure size 432x288 with 1 Axes>"
      ]
     },
     "metadata": {
      "needs_background": "light"
     },
     "output_type": "display_data"
    }
   ],
   "source": [
    "import numpy as np\n",
    "import scipy as sp\n",
    "import scipy.integrate\n",
    "import matplotlib.pyplot as plt\n",
    "\n",
    "\n",
    "M = 28.965e-3 # en kg/mol, donnée wikipédia \n",
    "P0= 101325    # en Pa, au niveau du sol\n",
    "\n",
    "R = 8.314\n",
    "\n",
    "def atmosphere(P, z):\n",
    "    \"\"\"Définit l'équadiff vérifiée par P. On prend tout de suite en compte\n",
    "    le fait que la température et l'accélération de la pesanteur peuvent varier.\"\"\"\n",
    "    return - M * g(z) / (R * T(z)) * P\n",
    "\n",
    "def g(z):\n",
    "    \"\"\"Accélération de la pesanteur constante\"\"\"\n",
    "    return 9.81\n",
    "\n",
    "def T(z):\n",
    "    \"\"\"Température constante à 15°C\"\"\"\n",
    "    return 273.16 + 15\n",
    "\n",
    "z = np.linspace(0, 44e3, 10**5) # 10**5 points en 0 et 44km (cf infra), \n",
    "\n",
    "# odeint renvoie un array d'arrays (à 1 valeur ici...) d'où le [:, 0] pour récupérer\n",
    "# un array «simple».\n",
    "P_isoT = sp.integrate.odeint(atmosphere, P0, z)[:, 0]\n",
    "\n",
    "plt.plot(z, P_isoT)\n",
    "plt.yscale('log')\n",
    "plt.grid(which='both')"
   ]
  },
  {
   "cell_type": "markdown",
   "id": "dc7fec0f",
   "metadata": {},
   "source": [
    "## Ce qu'on vous demande de faire: modèle de l'atmosphère adiabatique\n",
    "\n",
    "La première amélioration que l'on peut faire concernant le modèle de l'atmosphère isotherme est de faire doucement varier la température qui décroît de $6{,}5$°C par km sur les premiers km d'atmosphère. Bien sûr, on devra s'arrêter avant que la température exprimée en kelvins ne s'annule (une température absolue négative, cela ne fait pas très sérieux), soit aux environs de $44$ km.\n",
    "\n",
    "Votre objectif est d'obtenir l'évolution de la pression sur ces 44 premiers kilomètres et de comparer au modèle de l'atmosphère isotherme pour voir à quelle altitude l'écart de pression est le plus important (et donner cet écart maximal)."
   ]
  },
  {
   "cell_type": "code",
   "execution_count": 1,
   "id": "ee4f5217",
   "metadata": {},
   "outputs": [
    {
     "name": "stdout",
     "output_type": "stream",
     "text": [
      "Votre réponse:  ('Altitude de maximum de différence de P', 'Maximum de différence de P')\n"
     ]
    }
   ],
   "source": [
    "# À vous de jouer, toutes les infos sont données au-dessus\n",
    "\n",
    "\n",
    "\n",
    "\n",
    "\n",
    "\n",
    "reponse = \"Altitude de maximum de différence de P\", \"Maximum de différence de P\"\n",
    "\n",
    "print(\"Votre réponse: \", reponse)\n"
   ]
  }
 ],
 "metadata": {
  "kernelspec": {
   "display_name": "Python 3 (ipykernel)",
   "language": "python",
   "name": "python3"
  },
  "language_info": {
   "codemirror_mode": {
    "name": "ipython",
    "version": 3
   },
   "file_extension": ".py",
   "mimetype": "text/x-python",
   "name": "python",
   "nbconvert_exporter": "python",
   "pygments_lexer": "ipython3",
   "version": "3.10.4"
  }
 },
 "nbformat": 4,
 "nbformat_minor": 5
}
